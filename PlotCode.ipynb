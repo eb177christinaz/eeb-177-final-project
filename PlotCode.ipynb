{
 "cells": [
  {
   "cell_type": "code",
   "execution_count": null,
   "metadata": {
    "collapsed": true
   },
   "outputs": [],
   "source": [
    "import matplotlib.pyplot as plt\n",
    "\n",
    "def graph_diversity(filename):\n",
    "    counter = 0\n",
    "    bat_data=open(filename)\n",
    "    time_list=[]\n",
    "    count_list=[]\n",
    "    for line in dino_data:\n",
    "#         counter = counter+1\n",
    "        positions = line.split(' \"')\n",
    "        time_list.append(positions[1].rstrip('\"\\n'))\n",
    "        count_list.append(int(positions[0]))#         print(positions[0])\n",
    "#         print(positions[1])\n",
    "#     new_time_list = []\n",
    "#     for word in time_list:\n",
    "#         counter = counter +50 \n",
    "#         wordlen = len(time_list[word])\n",
    "#         temp_list = time_list[words]\n",
    "#         for element in range(0,wordlen):\n",
    "#             if temp_list[element] == \"\\n\":\n",
    "#                 temp_list.pop()\n",
    "#                 new_time_list.append(temp_list[0:])\n",
    "#     print (new_time_list)\n",
    "    len_time_list = len(time_list)\n",
    "    time_list_call=[]\n",
    "    labels = []\n",
    "    for it in range(0,len_time_list):\n",
    "        time_list_call.append(it)\n",
    "        labels.append(time_list[it])\n",
    "    \n",
    "    # plt.bar takes two lists- so we need to give it \n",
    "    # the list of times\n",
    "    plt.bar(list(range(0,len_time_list)), count_list)\n",
    "    # we need to give it the same x-position list and the list of labels\n",
    "    # also rotate the labels to be legible...\n",
    "    plt.xticks(list(range(0,len_time_list)), labels, rotation='vertical')\n",
    "    plt.show()"
   ]
  }
 ],
 "metadata": {
  "anaconda-cloud": {},
  "kernelspec": {
   "display_name": "Python [conda root]",
   "language": "python",
   "name": "conda-root-py"
  },
  "language_info": {
   "codemirror_mode": {
    "name": "ipython",
    "version": 3
   },
   "file_extension": ".py",
   "mimetype": "text/x-python",
   "name": "python",
   "nbconvert_exporter": "python",
   "pygments_lexer": "ipython3",
   "version": "3.5.2"
  }
 },
 "nbformat": 4,
 "nbformat_minor": 2
}
