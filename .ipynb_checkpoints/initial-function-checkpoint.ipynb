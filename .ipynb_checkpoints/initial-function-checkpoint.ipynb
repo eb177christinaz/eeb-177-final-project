{
 "cells": [
  {
   "cell_type": "markdown",
   "metadata": {},
   "source": [
    "First Working Function\n",
    "\n",
    "To cut data into colums to use\n",
    "cut -d ',' -f 6,13 redpandadata.csv | tail -n +17 > trialdata.csv"
   ]
  },
  {
   "cell_type": "code",
   "execution_count": 33,
   "metadata": {
    "collapsed": false
   },
   "outputs": [],
   "source": [
    "def makeProjectDict(filename): \n",
    "    #this function opens the data file from Thomas et all and extracts the data\n",
    "    ProjectDict = {}\n",
    "    fobj = open(filename,\"r\", encoding = \"ISO-8859-15\")#open the file\n",
    "    all_records = fobj.readlines()[1:] #read the file\n",
    "    for line in all_records:\n",
    "        record_elements = line.split(\",\") # or record_elements = line.split(\",\") // species = record elements[0] // family = record_elements[2]\n",
    "        identified_name = record_elements[0]\n",
    "        early_interval = record_elements[1]\n",
    "        ProjectDict[identified_name] = early_interval\n",
    "    return ProjectDict"
   ]
  },
  {
   "cell_type": "code",
   "execution_count": 34,
   "metadata": {
    "collapsed": false
   },
   "outputs": [
    {
     "data": {
      "text/plain": [
       "{'\"Actiocyon n. sp. parverratis\"': '\"Barstovian\"\\n',\n",
       " '\"Actiocyon parverratis\"': '\"Barstovian\"\\n',\n",
       " '\"Ailurus anglicus\"': '\"Gelasian\"\\n',\n",
       " '\"Alopecocyon goeriachensis\"': '\"Langhian\"\\n',\n",
       " '\"Alopecocyon leptorhynchus\"': '\"MN 6\"\\n',\n",
       " '\"Alopecocyon sp.\"': '\"MN 9\"\\n',\n",
       " '\"Parailurus anglicus\"': '\"Pliocene\"\\n',\n",
       " '\"Parailurus cf. hungaricus\"': '\"MN 16\"\\n',\n",
       " '\"Parailurus hungaricus\"': '\"Villanyian\"\\n',\n",
       " '\"Parailurus sp.\"': '\"Blancan\"\\n',\n",
       " '\"Protursus sp.\"': '\"Turolian\"\\n',\n",
       " '\"Simocyon batalleri\"': '\"MN 10\"\\n',\n",
       " '\"Simocyon cf. primigenius\"': '\"Hemphillian\"\\n',\n",
       " '\"Simocyon diaphorus\"': '\"MN 9\"\\n',\n",
       " '\"Simocyon primigenius\"': '\"Late Miocene\"\\n',\n",
       " '\"cf. Alopecocyon sp.\"': '\"Late Oligocene\"\\n',\n",
       " '\"n. gen. Actiocyon n. sp. leardi\"': '\"Clarendonian\"\\n',\n",
       " '\"n. gen. Magerictis n. sp. imperialensis\"': '\"MN 4\"\\n',\n",
       " '\"n. gen. Pristinailurus n. sp. bristoli\"': '\"Late Hemphillian\"\\n'}"
      ]
     },
     "execution_count": 34,
     "metadata": {},
     "output_type": "execute_result"
    }
   ],
   "source": [
    "makeProjectDict(\"trialdata.csv\")"
   ]
  },
  {
   "cell_type": "code",
   "execution_count": null,
   "metadata": {
    "collapsed": false
   },
   "outputs": [],
   "source": []
  },
  {
   "cell_type": "code",
   "execution_count": null,
   "metadata": {
    "collapsed": true
   },
   "outputs": [],
   "source": []
  }
 ],
 "metadata": {
  "anaconda-cloud": {},
  "kernelspec": {
   "display_name": "Python [conda root]",
   "language": "python",
   "name": "conda-root-py"
  },
  "language_info": {
   "codemirror_mode": {
    "name": "ipython",
    "version": 3
   },
   "file_extension": ".py",
   "mimetype": "text/x-python",
   "name": "python",
   "nbconvert_exporter": "python",
   "pygments_lexer": "ipython3",
   "version": "3.5.2"
  }
 },
 "nbformat": 4,
 "nbformat_minor": 2
}
