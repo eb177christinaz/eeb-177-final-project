{
 "cells": [
  {
   "cell_type": "markdown",
   "metadata": {},
   "source": [
    "First Working Function"
   ]
  },
  {
   "cell_type": "code",
   "execution_count": 13,
   "metadata": {
    "collapsed": false
   },
   "outputs": [],
   "source": [
    "def makeProjectDict(filename): \n",
    "    #this function opens the data file from Thomas et all and extracts the data\n",
    "    ProjectDict = {}\n",
    "    fobj = open(filename,\"r\", encoding = \"ISO-8859-15\")#open the file\n",
    "    all_records = fobj.readlines()[:1] #read the file\n",
    "    for line in all_records:\n",
    "        record_elements = line.split(\",\") # or record_elements = line.split(\",\") // species = record elements[0] // family = record_elements[2]\n",
    "        identified_name = record_elements[0]\n",
    "        family = record_elements[1]\n",
    "        ProjectDict[identified_name] = family\n",
    "    return ProjectDict"
   ]
  },
  {
   "cell_type": "code",
   "execution_count": 14,
   "metadata": {
    "collapsed": false
   },
   "outputs": [
    {
     "data": {
      "text/plain": [
       "{'\"Data Provider\"': '\"The Paleobiology Database\"\\n'}"
      ]
     },
     "execution_count": 14,
     "metadata": {},
     "output_type": "execute_result"
    }
   ],
   "source": [
    "makeProjectDict(\"redpandadata.csv\")"
   ]
  },
  {
   "cell_type": "code",
   "execution_count": 3,
   "metadata": {
    "collapsed": false
   },
   "outputs": [
    {
     "ename": "SyntaxError",
     "evalue": "invalid syntax (<ipython-input-3-9de1c330c42c>, line 9)",
     "output_type": "error",
     "traceback": [
      "\u001b[0;36m  File \u001b[0;32m\"<ipython-input-3-9de1c330c42c>\"\u001b[0;36m, line \u001b[0;32m9\u001b[0m\n\u001b[0;31m    print(\"Early interval of \" + species[1] + \" is \" red_panda[species[1]])\u001b[0m\n\u001b[0m                                                             ^\u001b[0m\n\u001b[0;31mSyntaxError\u001b[0m\u001b[0;31m:\u001b[0m invalid syntax\n"
     ]
    }
   ],
   "source": [
    "red_panda = makeBirdDict(\"/home/eeb177-student/Desktop/eeb-177/final-project/redpandadata.csv\")\n",
    "species = list(red_panda.keys())\n",
    "#sorted(species)\n",
    "species.sort()\n",
    "species[1]\n",
    "early_interval = redpanda[early_interval]\n",
    "print(identified_name, early_interval)\n",
    "\n",
    "print(\"Early interval of \" + species[1] + \" is \" red_panda[species[1]])"
   ]
  },
  {
   "cell_type": "code",
   "execution_count": null,
   "metadata": {
    "collapsed": true
   },
   "outputs": [],
   "source": []
  }
 ],
 "metadata": {
  "anaconda-cloud": {},
  "kernelspec": {
   "display_name": "Python [conda root]",
   "language": "python",
   "name": "conda-root-py"
  },
  "language_info": {
   "codemirror_mode": {
    "name": "ipython",
    "version": 3
   },
   "file_extension": ".py",
   "mimetype": "text/x-python",
   "name": "python",
   "nbconvert_exporter": "python",
   "pygments_lexer": "ipython3",
   "version": "3.5.2"
  }
 },
 "nbformat": 4,
 "nbformat_minor": 2
}
